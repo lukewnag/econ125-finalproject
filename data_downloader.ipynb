{
 "cells": [
  {
   "cell_type": "code",
   "execution_count": 1,
   "metadata": {},
   "outputs": [],
   "source": [
    "import pandas as pd\n",
    "import numpy as np"
   ]
  },
  {
   "cell_type": "code",
   "execution_count": null,
   "metadata": {},
   "outputs": [],
   "source": [
    "from fredapi import Fred\n",
    "fred = Fred(api_key='INSERT KEY HERE')"
   ]
  },
  {
   "cell_type": "code",
   "execution_count": 3,
   "metadata": {},
   "outputs": [],
   "source": [
    "us_state_to_abbrev = {\n",
    "    \"Alabama\": \"AL\",\n",
    "    \"Alaska\": \"AK\",\n",
    "    \"Arizona\": \"AZ\",\n",
    "    \"Arkansas\": \"AR\",\n",
    "    \"California\": \"CA\",\n",
    "    \"Colorado\": \"CO\",\n",
    "    \"Connecticut\": \"CT\",\n",
    "    \"Delaware\": \"DE\",\n",
    "    \"Florida\": \"FL\",\n",
    "    \"Georgia\": \"GA\",\n",
    "    \"Hawaii\": \"HI\",\n",
    "    \"Idaho\": \"ID\",\n",
    "    \"Illinois\": \"IL\",\n",
    "    \"Indiana\": \"IN\",\n",
    "    \"Iowa\": \"IA\",\n",
    "    \"Kansas\": \"KS\",\n",
    "    \"Kentucky\": \"KY\",\n",
    "    \"Louisiana\": \"LA\",\n",
    "    \"Maine\": \"ME\",\n",
    "    \"Maryland\": \"MD\",\n",
    "    \"Massachusetts\": \"MA\",\n",
    "    \"Michigan\": \"MI\",\n",
    "    \"Minnesota\": \"MN\",\n",
    "    \"Mississippi\": \"MS\",\n",
    "    \"Missouri\": \"MO\",\n",
    "    \"Montana\": \"MT\",\n",
    "    \"Nebraska\": \"NE\",\n",
    "    \"Nevada\": \"NV\",\n",
    "    \"New Hampshire\": \"NH\",\n",
    "    \"New Jersey\": \"NJ\",\n",
    "    \"New Mexico\": \"NM\",\n",
    "    \"New York\": \"NY\",\n",
    "    \"North Carolina\": \"NC\",\n",
    "    \"North Dakota\": \"ND\",\n",
    "    \"Ohio\": \"OH\",\n",
    "    \"Oklahoma\": \"OK\",\n",
    "    \"Oregon\": \"OR\",\n",
    "    \"Pennsylvania\": \"PA\",\n",
    "    \"Rhode Island\": \"RI\",\n",
    "    \"South Carolina\": \"SC\",\n",
    "    \"South Dakota\": \"SD\",\n",
    "    \"Tennessee\": \"TN\",\n",
    "    \"Texas\": \"TX\",\n",
    "    \"Utah\": \"UT\",\n",
    "    \"Vermont\": \"VT\",\n",
    "    \"Virginia\": \"VA\",\n",
    "    \"Washington\": \"WA\",\n",
    "    \"West Virginia\": \"WV\",\n",
    "    \"Wisconsin\": \"WI\",\n",
    "    \"Wyoming\": \"WY\",\n",
    "    \"District of Columbia\": \"DC\",\n",
    "}"
   ]
  },
  {
   "cell_type": "code",
   "execution_count": 4,
   "metadata": {},
   "outputs": [],
   "source": [
    "# state_gdp = pd.read_csv('SQGDP1__ALL_AREAS_2018_2024.csv')\n",
    "# cleaned_cols = state_gdp.drop((i for i in range(len(state_gdp)) if state_gdp['GeoName'][i] not in us_state_to_abbrev or state_gdp['Description'][i][:4] != 'Real'))\n",
    "# cleaned_cols = cleaned_cols.drop(['GeoFIPS', 'TableName', 'Region', 'IndustryClassification', 'LineCode', 'Description', 'Unit'], axis=1)\n",
    "# cleaned_cols = cleaned_cols.reset_index().drop('index', axis=1)"
   ]
  },
  {
   "cell_type": "code",
   "execution_count": 5,
   "metadata": {},
   "outputs": [],
   "source": [
    "start_year = 1997\n",
    "end_year = 2024"
   ]
  },
  {
   "cell_type": "markdown",
   "metadata": {},
   "source": [
    "### State minimum wage data"
   ]
  },
  {
   "cell_type": "code",
   "execution_count": 5,
   "metadata": {},
   "outputs": [
    {
     "name": "stdout",
     "output_type": "stream",
     "text": [
      "Alabama does not have a minimum wage series\n",
      "Louisiana does not have a minimum wage series\n",
      "Mississippi does not have a minimum wage series\n",
      "South Carolina does not have a minimum wage series\n",
      "Tennessee does not have a minimum wage series\n"
     ]
    }
   ],
   "source": [
    "fed_minwage = fred.get_series('STTMINWGFG')\n",
    "fed_minwage_df = pd.DataFrame(fed_minwage, columns=['Minimum wage'])\n",
    "fed_minwage_transpose = fed_minwage_df.T\n",
    "state_minimum_wages = pd.DataFrame(columns=fed_minwage_transpose.columns)\n",
    "for state in us_state_to_abbrev:\n",
    "    id = us_state_to_abbrev[state]\n",
    "    try:\n",
    "        state_minwage_df = pd.DataFrame(fred.get_series('STTMINWG'+id), columns=['Minimum wage'])\n",
    "        state_minwage_df = np.maximum(state_minwage_df, fed_minwage_df).T.iloc[0]\n",
    "        state_minimum_wages.loc[state] = state_minwage_df.fillna(fed_minwage_df['Minimum wage'])\n",
    "        continue\n",
    "    except ValueError as e:\n",
    "        state_minimum_wages.loc[state] = fed_minwage_transpose.iloc[0]\n",
    "        print(f'{state} does not have a minimum wage series')\n",
    "state_minimum_wages.sort_index(axis=0, inplace=True)\n",
    "state_minimum_wages.rename(columns=lambda x : str(x)[:4], inplace=True)\n",
    "state_minimum_wages.drop([col for col in state_minimum_wages.columns if (int(col) < start_year or int(col) >= end_year)], axis=1, inplace=True)\n",
    "state_minimum_wages.to_csv('min_wages_by_state.csv')"
   ]
  },
  {
   "cell_type": "markdown",
   "metadata": {},
   "source": [
    "### State GDP data"
   ]
  },
  {
   "cell_type": "code",
   "execution_count": 35,
   "metadata": {},
   "outputs": [],
   "source": [
    "state_gdp = pd.DataFrame(columns = pd.DataFrame(fred.get_series('CANGSP')).T.columns)\n",
    "for state in us_state_to_abbrev:\n",
    "    id = us_state_to_abbrev[state]\n",
    "    state_gdp_df = pd.DataFrame(fred.get_series(id+'NGSP'))\n",
    "    state_gdp.loc[state] = state_gdp_df.T.iloc[0]\n",
    "state_gdp.sort_index(axis=0, inplace=True)\n",
    "state_gdp.rename(columns=lambda x : str(x)[:4], inplace=True)\n",
    "state_gdp.drop([col for col in state_gdp.columns if int(col) < start_year], axis=1, inplace=True)\n",
    "state_gdp.to_csv('gdp_by_state.csv')"
   ]
  },
  {
   "cell_type": "markdown",
   "metadata": {},
   "source": [
    "### State unemployment data"
   ]
  },
  {
   "cell_type": "code",
   "execution_count": 36,
   "metadata": {},
   "outputs": [],
   "source": [
    "years = set(pd.DataFrame(fred.get_series('WAUR')).T.columns.year)\n",
    "years.remove(2024)\n",
    "\n",
    "state_unempl = pd.DataFrame(columns = sorted(years))\n",
    "for state in us_state_to_abbrev:\n",
    "    id = us_state_to_abbrev[state]\n",
    "    state_unempl_df = pd.DataFrame(fred.get_series(id+'UR'))\n",
    "    for yr in years:\n",
    "        avg = round(sum([state_unempl_df[0][str(yr)+'-'+str(month)+'-01'] for month in range(1, 13)])/12, 2)\n",
    "        state_unempl.loc[state, yr] = avg\n",
    "state_unempl.sort_index(axis=0, inplace=True)\n",
    "\n",
    "state_unempl.drop([col for col in state_unempl.columns if int(col) < start_year], axis=1, inplace=True)\n",
    "state_unempl.to_csv('annual_unemployment_by_state.csv')"
   ]
  },
  {
   "cell_type": "markdown",
   "metadata": {},
   "source": [
    "### State population data"
   ]
  },
  {
   "cell_type": "code",
   "execution_count": 38,
   "metadata": {},
   "outputs": [],
   "source": [
    "state_pop = pd.DataFrame(columns = pd.DataFrame(fred.get_series('CAPOP')).T.columns)\n",
    "for state in us_state_to_abbrev:\n",
    "    id = us_state_to_abbrev[state]\n",
    "    state_pop_df = pd.DataFrame(fred.get_series(id+'POP'))\n",
    "    state_pop.loc[state] = state_pop_df.T.iloc[0]\n",
    "state_pop.sort_index(axis=0, inplace=True)\n",
    "state_pop.rename(columns=lambda x : str(x)[:4], inplace=True)\n",
    "state_pop.drop([col for col in state_pop.columns if int(col) < start_year], axis=1, inplace=True)\n",
    "state_pop.to_csv('population_by_state.csv')"
   ]
  },
  {
   "cell_type": "markdown",
   "metadata": {},
   "source": [
    "### Personal consumption data"
   ]
  },
  {
   "cell_type": "code",
   "execution_count": 39,
   "metadata": {},
   "outputs": [],
   "source": [
    "state_consumption = pd.DataFrame(columns = pd.DataFrame(fred.get_series('MIPCE')).T.columns)\n",
    "for state in us_state_to_abbrev:\n",
    "    id = us_state_to_abbrev[state]\n",
    "    state_cons_df = pd.DataFrame(fred.get_series(id+'PCE'))\n",
    "    state_consumption.loc[state] = state_cons_df.T.iloc[0]\n",
    "state_consumption.sort_index(axis=0, inplace=True)\n",
    "state_consumption.rename(columns=lambda x : str(x)[:4], inplace=True)\n",
    "state_consumption.drop([col for col in state_consumption.columns if int(col) < start_year], axis=1, inplace=True)\n",
    "state_consumption.to_csv('consumption_by_state.csv')"
   ]
  },
  {
   "cell_type": "markdown",
   "metadata": {},
   "source": [
    "### Inflation data"
   ]
  },
  {
   "cell_type": "code",
   "execution_count": 67,
   "metadata": {},
   "outputs": [],
   "source": [
    "pce_monthly = pd.DataFrame(fred.get_series('PCETRIM12M159SFRBDAL'))\n",
    "pce_df = pce_monthly.T\n",
    "pce_df = pce_df.filter(regex='[0-9]{4}-01-01')\n",
    "for col in pce_df.columns:\n",
    "    if col.year < start_year or col.year >= end_year:\n",
    "        pce_df.drop(col, axis=1, inplace=True)\n",
    "pce_df.rename(columns=lambda x : x.year, inplace=True)\n",
    "pce_df.to_csv('annual_pce.csv')\n",
    "\n",
    "pce_cumulative_df = pd.DataFrame(columns=pce_df.columns)\n",
    "toAdd = [1]\n",
    "for yr in range(start_year+1, end_year):\n",
    "    toAdd.append(toAdd[-1] * (1 + pce_df[yr][0]/100))\n",
    "pce_cumulative_df.loc['Cumulative PCE'] = toAdd\n",
    "pce_cumulative_df.to_csv('cumulative_pce.csv')\n"
   ]
  }
 ],
 "metadata": {
  "kernelspec": {
   "display_name": ".venv",
   "language": "python",
   "name": "python3"
  },
  "language_info": {
   "codemirror_mode": {
    "name": "ipython",
    "version": 3
   },
   "file_extension": ".py",
   "mimetype": "text/x-python",
   "name": "python",
   "nbconvert_exporter": "python",
   "pygments_lexer": "ipython3",
   "version": "3.10.11"
  }
 },
 "nbformat": 4,
 "nbformat_minor": 2
}
